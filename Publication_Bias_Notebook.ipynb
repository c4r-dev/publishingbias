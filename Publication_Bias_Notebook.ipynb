{
 "cells": [
  {
   "cell_type": "markdown",
   "id": "666c7ae4",
   "metadata": {},
   "source": [
    "# Intuition for Publication Bias in Python Notebook\n",
    "This notebook demonstrates the concept of publication bias interactively using Python, NumPy, Plotly, and ipywidgets."
   ]
  },
  {
   "cell_type": "code",
   "execution_count": null,
   "id": "dd04da73",
   "metadata": {},
   "outputs": [],
   "source": [
    "\n",
    "# Import necessary libraries\n",
    "import numpy as np\n",
    "import plotly.graph_objects as go\n",
    "from plotly.subplots import make_subplots\n",
    "import ipywidgets as widgets\n",
    "from ipywidgets import interact\n"
   ]
  },
  {
   "cell_type": "code",
   "execution_count": null,
   "id": "9ef87e50",
   "metadata": {},
   "outputs": [],
   "source": [
    "\n",
    "# Function to create the bias plot\n",
    "def plot_bias(s2):\n",
    "    s = 1 - s2\n",
    "\n",
    "    dark_blue = \"#1f77b4\"\n",
    "    dark_orange = \"#ff7f0e\"\n",
    "\n",
    "    x1 = np.linspace(-3, 3, 500)\n",
    "    y1 = np.exp(-0.5 * x1**2) / np.sqrt(2 * np.pi)\n",
    "\n",
    "    x2 = np.linspace(-3, 3, 500)\n",
    "    y2 = np.exp(-0.5 * x2**2)\n",
    "    y2[x2 < 2] *= s\n",
    "    y2 /= np.trapz(y2, x2)\n",
    "\n",
    "    avg_z1 = 0\n",
    "    avg_z2 = np.trapz(x2 * y2, x2)\n",
    "\n",
    "    bar_x = [\"p<0.05, neg\", \"NS, neg\", \"NS, pos\", \"p<0.05, pos\"]\n",
    "    bar_y1 = [0.025, 0.475, 0.475, 0.025]\n",
    "    bar_y2 = bar_y1[:]\n",
    "    bar_y2[:3] = [val * s for val in bar_y1[:3]]\n",
    "    bar_y2 = [val / sum(bar_y2) for val in bar_y2]\n",
    "\n",
    "    fig = make_subplots(\n",
    "        rows=4, cols=1, shared_xaxes=False, vertical_spacing=0.1,\n",
    "        subplot_titles=(\"Distribution of Real Effects\",\n",
    "                        \"Distribution of Published Papers\",\n",
    "                        \"Significance of Experiments\",\n",
    "                        \"Significance of Published Papers\"))\n",
    "\n",
    "    fig.add_trace(go.Scatter(x=x1, y=y1, mode='lines', line=dict(color=dark_blue), name=\"Real Effects\"), row=1, col=1)\n",
    "    fig.add_trace(go.Scatter(x=x2, y=y2, mode='lines', line=dict(color=dark_orange), name=\"Published Papers\"), row=2, col=1)\n",
    "    fig.add_trace(go.Bar(x=bar_x, y=bar_y1, marker_color=dark_blue, name=\"Significance of Experiments\"), row=3, col=1)\n",
    "    fig.add_trace(go.Bar(x=bar_x, y=bar_y2, marker_color=dark_orange, name=\"Significance of Published Papers\"), row=4, col=1)\n",
    "\n",
    "    fig.update_layout(\n",
    "        height=800,\n",
    "        margin=dict(t=100, b=50, l=50, r=50),\n",
    "        title_x=0.5,\n",
    "        showlegend=False\n",
    "    )\n",
    "\n",
    "    fig.update_xaxes(title_text=\"Z-score (mean/std)\", row=1, col=1)\n",
    "    fig.update_xaxes(title_text=\"Z-score (mean/std)\", row=2, col=1)\n",
    "\n",
    "    return fig\n"
   ]
  },
  {
   "cell_type": "code",
   "execution_count": null,
   "id": "04b43a08",
   "metadata": {},
   "outputs": [],
   "source": [
    "\n",
    "# Interactive plot function using ipywidgets\n",
    "@interact(s2=widgets.FloatSlider(value=0, min=0, max=1, step=0.01, description='Unpublished %'))\n",
    "def update_plot(s2):\n",
    "    fig = plot_bias(s2)\n",
    "    fig.show()\n"
   ]
  }
 ],
 "metadata": {},
 "nbformat": 4,
 "nbformat_minor": 5
}
